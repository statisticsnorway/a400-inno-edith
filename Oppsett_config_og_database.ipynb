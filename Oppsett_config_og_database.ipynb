{
 "cells": [
  {
   "cell_type": "markdown",
   "id": "medical-fourth",
   "metadata": {},
   "source": [
    "# Oppsett av config.json\n",
    "\n",
    "\n",
    "### Forslag til oppsett på config.json til bruk i  andre undersøkelser. Under følger forklaring til de ulike elementene:\n"
   ]
  },
  {
   "cell_type": "markdown",
   "id": "directed-target",
   "metadata": {},
   "source": [
    "| Parameter    | Beskrivelse|\n",
    "|:--------------|:-------------\n",
    "|Undersøkelse | Navn på undersøkelsen|\n",
    "|brukernavn | brukernavnet ditt |\n",
    "|Perioder |Hvilke perioder skal tas inn i visualiseringen. Spesifiser:<ul><li>Delreg </li><li>Periode (med unikt navn)</li>\n",
    "|Aggregater | Hvilke variabler skal det være mulig å aggregere på i skjermbildene (typisk group by) |\n",
    "|Id_variabel | Koblingsnøkkel, typisk orgnr|\n",
    "|Navn_variabel | Forklaringsvariabel til koblingsnøkkel? Trengs denne?|\n",
    "|kombinert_id_navn | Navnet på variabelen som er slått sammen av id og navn |\n",
    "|Nøkkeltall_enhetssiden | Viktige sum-variabler, som man typisk sjekker for alle enheter. Kan være en eller flere|\n",
    "|Data | Filstien må vise til hvor man har tenkt å opprette sqlite-databasen. Dette kan være på et stammeområde eller på egen bruker.|\n",
    "|Tabeller | Tabeller man trenger i sqlite-databasen man oppretter. Kan legge til flere tabeller ved behov. Det er ikke nødvendig å endre noe her for at Edith skal fungere |\n",
    "|Default_valg |Om man ønsker forhåndsvalgte variabler i skjermbildene kan denne fylles ut |\n"
   ]
  },
  {
   "cell_type": "markdown",
   "id": "italic-egypt",
   "metadata": {},
   "source": [
    "# Oppretting_database.ipynb"
   ]
  },
  {
   "cell_type": "markdown",
   "id": "remarkable-mountain",
   "metadata": {},
   "source": [
    "Denne notebooken kan benyttes for å opprette sqlite-database med tabell over raadata. Notebooken er tilrettelagt for å hente data fra DYNAREV.\n",
    "Endringer som må gjøres:\n",
    "\n",
    "*\tRiktig brukernavn må settes inn for oppkobling til Oracle/Dynarev\n",
    "\n",
    "*\tOm man ønsker et annet navn enn «edith» på sqlite-databasen kan dette endres i funksjonen connect():\n",
    "def connect():\n",
    "    engine = create_engine(f\"sqlite:///{config['data']['filsti']}/edith.sqlite\")\n",
    "    conn = sqlite3.connect(f\"{config['data']['filsti']}/edith.sqlite\"\n"
   ]
  }
 ],
 "metadata": {
  "kernelspec": {
   "display_name": "Python 3",
   "language": "python",
   "name": "python3"
  },
  "language_info": {
   "codemirror_mode": {
    "name": "ipython",
    "version": 3
   },
   "file_extension": ".py",
   "mimetype": "text/x-python",
   "name": "python",
   "nbconvert_exporter": "python",
   "pygments_lexer": "ipython3",
   "version": "3.6.8"
  }
 },
 "nbformat": 4,
 "nbformat_minor": 5
}
