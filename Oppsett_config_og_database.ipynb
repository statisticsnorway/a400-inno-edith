{
 "cells": [
  {
   "cell_type": "markdown",
   "id": "medical-fourth",
   "metadata": {},
   "source": [
    "# Oppsett av config.json\n",
    "\n",
    "\n",
    "### Forslag til oppsett på config.json til bruk i  andre undersøkelser. Under følger forklaring til de ulike elementene:\n"
   ]
  },
  {
   "attachments": {
    "231ce84a-d4d6-4bef-bc59-1f615f13d601.png": {
     "image/png": "[encoded data removed]"
    },
    "73deef86-eeae-45f6-a218-8bd34fb33106.png": {
     "image/png": "[encoded data removed]"
    }
   },
   "cell_type": "markdown",
   "id": "directed-target",
   "metadata": {},
   "source": [
    "| Parameter    | Beskrivelse|\n",
    "|:--------------|:-------------\n",
    "|Undersøkelse | Navn på undersøkelsen|\n",
    "|Brukernavn | brukernavnet ditt (initialer) |\n",
    "|Perioder |Hvilke perioder skal tas inn i visualiseringen. Man kan ta inn 1 eller flere (skilles med komma). Spesifiser:<ul><li>Delreg </li><li>Periode (med unikt navn)</li></ul><ul>Eks: ![image.png](attachment:231ce84a-d4d6-4bef-bc59-1f615f13d601.png) |\n",
    "|Aggregater | Hvilke variabler skal det være mulig å aggregere på i skjermbildene (typisk group by) <ul> Eks: ![image.png](attachment:73deef86-eeae-45f6-a218-8bd34fb33106.png) |\n",
    "|Id_variabel | Koblingsnøkkel, typisk orgnr. OBS! Skal som regel skrives med store bokstaver |\n",
    "|Navn_variabel | Forklaringsvariabel til koblingsnøkkel. Hentes fra SFU, skrives med store bokstaver|\n",
    "|kombinert_id_navn | Navnet på variabelen som er slått sammen av id og navn |\n",
    "|Nøkkeltall_enhetssiden | Viktige sum-variabler, som man typisk sjekker for alle enheter. Kan være en eller flere|\n",
    "|Data | Filstien må vise til hvor man har tenkt å opprette sqlite-databasen. Dette kan være på et stammeområde eller på egen bruker.<ul> Bruk hele stien (/ssb/stammexx/... evt /ssb/bruker/initialer) |\n",
    "|Tabeller | Tabeller man trenger i sqlite-databasen man oppretter. Kan legge til flere tabeller ved behov. Det er ikke nødvendig å endre noe her for at Edith skal fungere |\n",
    "|Default_valg |Om man ønsker forhåndsvalgte variabler i skjermbildene kan denne fylles ut |\n"
   ]
  },
  {
   "cell_type": "markdown",
   "id": "italic-egypt",
   "metadata": {},
   "source": [
    "# Oppretting_database_raadata.ipynb"
   ]
  },
  {
   "cell_type": "markdown",
   "id": "remarkable-mountain",
   "metadata": {},
   "source": [
    "Denne notebooken kan benyttes for å opprette sqlite-database med tabell over raadata. Notebooken er tilrettelagt for å hente data fra DYNAREV.\n",
    "Endringer som må gjøres:\n",
    "\n",
    "*\tRiktig passord må settes inn for oppkobling til Oracle/Dynarev (DB1P)\n",
    "\n",
    "\n",
    "*   Det er mulig å ta med flere kjennemerker enn default fra SFU inn til rådatatabellen. Dette kan typisk være andre aggregater enn NACE.<ul>\n",
    "    Eks - her hentes i tillegg hjelpevariabelen H_VAR3_A, kommunenummeret og det lages en utledning til fylke fra kommunenummeret:<ul> \n",
    "    f\"SELECT NAVN, ORGNR, ORG_FORM, NACE1, NACE2, ENHETS_ID, ENHETS_TYPE<b>,H_VAR3_A,F_KOMMUNENR AS KOMMUNE, SUBSTR(F_KOMMUNENR,1,2) AS FYLKE</b> FROM dynarev.vw_enhet_i_delreg </ul></ul>\n",
    "\n",
    "*   Notebook'en laster som default inn alle data fra aktuelle delregistrene (der aktiv=1). Om man bare vil hente inn for ett skjema kan man legge til denne seleksjonen selv (se eksempel i notebooken)\n",
    "\n",
    "*\tOm man ønsker et annet navn enn «edith» på sqlite-databasen kan dette endres i funksjonen connect() i models_delt.py:\n",
    "def connect():\n",
    "    engine = create_engine(f\"sqlite:///{config['data']['filsti']}/<b>edith.sqlite</b>\")\n",
    "    conn = sqlite3.connect(f\"{config['data']['filsti']}/<b>edith.sqlite</b>\"\n",
    "    "
   ]
  },
  {
   "cell_type": "markdown",
   "id": "1a4f2e0f-1fda-41b6-b0c8-53eb4445c312",
   "metadata": {},
   "source": [
    "# Opprett_tabell_svarinngang.ipynb"
   ]
  },
  {
   "cell_type": "markdown",
   "id": "06a70c09-f9db-4254-acd9-3c2dd8fbc30e",
   "metadata": {},
   "source": [
    "Denne notebooken kan benyttes for å opprette tabell for svarinngang. Notebooken er tilrettelagt for å hente data fra DYNAREV.\n",
    "Endringer som må gjøres:\n",
    "\n",
    "*\tRiktig passord må settes inn for oppkobling til Oracle/Dynarev (DB1P)\n",
    "\n",
    "*   Notebook'en laster som default inn alle data fra aktuelle delregistrene (der aktiv=1). Om man bare vil hente inn for ett skjema kan man legge til denne seleksjonen selv (se eksempel i notebooken)"
   ]
  },
  {
   "cell_type": "code",
   "execution_count": null,
   "id": "85ab6e37-dfc9-4e15-866f-f1892d6bdf3f",
   "metadata": {},
   "outputs": [],
   "source": []
  }
 ],
 "metadata": {
  "language_info": {
   "codemirror_mode": {
    "name": "ipython"
   },
   "file_extension": ".py",
   "mimetype": "text/x-python",
   "name": "python",
   "nbconvert_exporter": "python"
  }
 },
 "nbformat": 4,
 "nbformat_minor": 5
}
