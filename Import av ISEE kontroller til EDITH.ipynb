{
 "cells": [
  {
   "cell_type": "markdown",
   "id": "02dd40f1-7142-42ce-b576-dbf9fb3b0505",
   "metadata": {},
   "source": [
    "# Import av ISEE kontroller til Edith\n",
    "\n",
    "- Må ha laget rådata tabell først\n",
    "- Må velge felter som skal være med"
   ]
  },
  {
   "cell_type": "code",
   "execution_count": null,
   "id": "d3b29dee-6c81-47fb-857d-1641c0ae74e5",
   "metadata": {},
   "outputs": [],
   "source": [
    "import getpass # Denne funksjonen lar deg skrive inn passordet med et input felt, istedenfor å skrive det inn i notebooken\n",
    "passord = getpass.getpass()"
   ]
  },
  {
   "cell_type": "markdown",
   "id": "ed8182be-d19a-4a91-9829-e5bbe95cee85",
   "metadata": {},
   "source": [
    "### Felter som inkluderes"
   ]
  },
  {
   "cell_type": "code",
   "execution_count": null,
   "id": "4d0c2c48-8bb7-49e1-bd08-3c707c7f73e0",
   "metadata": {},
   "outputs": [],
   "source": [
    "inkluderte_felter = [\n",
    "    'feilliste',\n",
    "    'NAVN',\n",
    "    'ORGNR',\n",
    "    'FELT_ID',\n",
    "    'KOMMUNE',\n",
    "    'FYLKE',\n",
    "    'Stratum',\n",
    "    'Driftsform',\n",
    "    'DELREG_NR_x',\n",
    "    'ENHETS_TYPE_x',\n",
    "    'ENHETS_ID',\n",
    "    'SKJEMA_x',\n",
    "    'LOPENR_x',\n",
    "    'RAD_NR_x',\n",
    "    'index',\n",
    "    'RAD_NR_y',\n",
    "    'LOPENR_y',\n",
    "    'SKJEMA_y',\n",
    "    'FEILID',\n",
    "    'VARIABEL',\n",
    "    'DELREG_NR_y',\n",
    "    'År_2021',\n",
    "    'ORG_FORM',\n",
    "    'NACE1',\n",
    "    'ENHETS_TYPE_y',\n",
    "    'orgnrNavn',\n",
    "    'kommentar']"
   ]
  },
  {
   "cell_type": "code",
   "execution_count": null,
   "id": "0bb7017b-aef8-408b-9c6f-e6d244f8d2cf",
   "metadata": {},
   "outputs": [],
   "source": [
    "import pandas as pd\n",
    "import sqlite3\n",
    "from sqlalchemy import Table, create_engine\n",
    "from sqlalchemy.sql import select\n",
    "from flask_sqlalchemy import SQLAlchemy\n",
    "import getpass\n",
    "import cx_Oracle\n",
    "import json\n",
    "import os\n",
    "\n",
    "from models.models_delt import connect"
   ]
  },
  {
   "cell_type": "code",
   "execution_count": null,
   "id": "4f58e813-9bc1-4ba4-a077-d82f91b70484",
   "metadata": {},
   "outputs": [],
   "source": [
    "with open(\"config.json\") as config: # Laster in valg fra config.json\n",
    "    config = json.load(config)\n",
    "\n",
    "conn, engine, db = connect()"
   ]
  },
  {
   "cell_type": "code",
   "execution_count": null,
   "id": "056f8e5a-8985-4756-8eaf-ac90e55a06ab",
   "metadata": {},
   "outputs": [],
   "source": [
    "path = \"/ssb/stamme02/jordbruk/sblbrund/wk8\"\n",
    "conn = sqlite3.connect(f\"{path}/edith.sqlite\", timeout=15) #Må endres hvis koblingen skal være opp mot dynarev\n",
    "engine = create_engine(f\"sqlite:///{path}/edith.sqlite\")\n",
    "bruker = getpass.getuser()[:3]\n",
    "db = cx_Oracle.connect(bruker,passord, \"DB1P\")"
   ]
  },
  {
   "cell_type": "code",
   "execution_count": null,
   "id": "5f97e158-f5a4-4260-932f-8c18fbb68f84",
   "metadata": {},
   "outputs": [],
   "source": [
    "df_feil = pd.read_sql(f\"SELECT * FROM DYNAREV.VW_KONTROLL_FEIL WHERE DELREG_NR='63021'\", con = db)\n",
    "# Nedenfor fjernes de som er reviderte\n",
    "df_feil = df_feil.loc[df_feil[\"ENHETS_ID\"].isin(list(pd.read_sql(f\"SELECT ENHETS_ID, REV_KODE, INN_DATO, REV_DATO FROM DYNAREV.VW_SKJEMA_ENHET WHERE DELREG_NR = 63021 and REV_KODE = 'U'\", con=db)[\"ENHETS_ID\"].unique()))]"
   ]
  },
  {
   "cell_type": "code",
   "execution_count": null,
   "id": "bc50a5b1-c27a-4cdc-8a46-ed4204bd9e93",
   "metadata": {},
   "outputs": [],
   "source": [
    "dff = pd.read_sql(f'SELECT * FROM {config[\"tabeller\"][\"raadata\"]}', con=engine)"
   ]
  },
  {
   "cell_type": "code",
   "execution_count": null,
   "id": "90a4c73e-dd11-433b-8b79-987dbb743107",
   "metadata": {},
   "outputs": [],
   "source": [
    "pd.read_sql(f\"SELECT * FROM DYNAREV.VW_SKJEMA_DATA WHERE DELREG_NR = 63021 AND AKTIV=1 \", con = db)"
   ]
  },
  {
   "cell_type": "code",
   "execution_count": null,
   "id": "f44a20bb-5de9-4487-ae03-0343276682f3",
   "metadata": {},
   "outputs": [],
   "source": [
    "df = pd.merge(df_feil, dff, on= \"ENHETS_ID\", how = \"right\")"
   ]
  },
  {
   "cell_type": "code",
   "execution_count": null,
   "id": "57b6c343-1e83-4007-8107-9ab3065f821d",
   "metadata": {},
   "outputs": [],
   "source": [
    "df[\"kommentar\"] = \"\"\n",
    "df[\"feilliste\"] = df[\"FTEKST\"]"
   ]
  },
  {
   "cell_type": "code",
   "execution_count": null,
   "id": "b34f8489-ec3a-4a4d-86a0-522feb4a7157",
   "metadata": {},
   "outputs": [],
   "source": [
    "df = df.dropna(subset = [\"feilliste\"])\n",
    "df = df.drop_duplicates(subset = [\"ORGNR\", \"feilliste\", \"FELT_ID\"])"
   ]
  },
  {
   "cell_type": "code",
   "execution_count": null,
   "id": "861e9140-74c7-468d-b461-80c6cd85fcb9",
   "metadata": {},
   "outputs": [],
   "source": [
    "df[inkluderte_felter].to_csv(f\"{config['data']['filsti']}/feilliste.csv\", index = False)"
   ]
  },
  {
   "cell_type": "code",
   "execution_count": null,
   "id": "b3b27851-83fb-49c8-92b5-acd2372e75ae",
   "metadata": {},
   "outputs": [],
   "source": [
    "for i in df_feil[\"FTEKST\"].unique():\n",
    "    print(i)\n",
    "    print(\"---------\")"
   ]
  },
  {
   "cell_type": "code",
   "execution_count": null,
   "id": "5ea4045a-8e25-4016-a948-75d446fea94d",
   "metadata": {},
   "outputs": [],
   "source": []
  }
 ],
 "metadata": {
  "kernelspec": {
   "display_name": "Python 3 (gammel)",
   "language": "python",
   "name": "python3"
  },
  "language_info": {
   "codemirror_mode": {
    "name": "ipython",
    "version": 3
   },
   "file_extension": ".py",
   "mimetype": "text/x-python",
   "name": "python",
   "nbconvert_exporter": "python",
   "pygments_lexer": "ipython3",
   "version": "3.8.8"
  }
 },
 "nbformat": 4,
 "nbformat_minor": 5
}
