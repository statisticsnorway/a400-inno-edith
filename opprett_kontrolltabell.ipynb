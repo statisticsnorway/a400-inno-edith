{
 "cells": [
  {
   "cell_type": "markdown",
   "id": "1822816b-3033-4ad7-b5fb-93084124f802",
   "metadata": {},
   "source": [
    "# Tabell til kontrollside\n",
    "Kontrollér-siden i Edith krever at man har forhåndsprogrammert kontroller i et visst format. I denne notebooken lager jeg en eksempelsnutt for hvordan en slik tabell kan lages. Målet er at det skal være enkelt for statistikkfaglig å følge eksempelet og skrive ut egne kontrolltabeller. Jeg velger å gjøre dette ved bruk av R, men det kan like greit gjøres med andre verktøy.\n",
    "\n",
    "For at man skal kunne kjøre denne notebooken, må database med rådatatabell være opprettet på forhånd. Se \"oppretting_database_raadata.ipynb\". I tillegg må config.json og variabler.json være opprettet."
   ]
  },
  {
   "cell_type": "markdown",
   "id": "162f605f-a641-43b7-85df-c4ec3944809b",
   "metadata": {},
   "source": [
    "## Importerer pakker, kobler opp til SQL-base og innhenter config-fil"
   ]
  },
  {
   "cell_type": "code",
   "execution_count": null,
   "id": "140578d9-1dd9-4872-a066-eff281544be5",
   "metadata": {
    "tags": []
   },
   "outputs": [],
   "source": [
    "\n",
    "suppressPackageStartupMessages(library(tidyverse)) #OBS: suppress-funksjonen stopper advarsler forbundet med innlasting av denne pakken.\n",
    "library(RSQLite)\n",
    "library(DBI)\n",
    "library(rjson)\n",
    "\n",
    "\n",
    "config <- fromJSON(file = \"config.json\")\n",
    "variabler <- fromJSON(file = \"variabler.json\")\n",
    "\n",
    "#Bestemmer perioder basert på config-fil\n",
    "t <- config$perioder$t$periode\n",
    "t_1 <- config$perioder$`t-1`$periode\n",
    "t_2 <- config$perioder$`t-2`$periode\n",
    "\n",
    "print(t)\n",
    "print(t_1)\n",
    "print(t_2)\n",
    "\n",
    "con <- dbConnect(RSQLite::SQLite(), \":memory:\", dbname=paste0(config$data$filsti,\"/edith.sqlite\"))"
   ]
  },
  {
   "cell_type": "markdown",
   "id": "3e9fad88-a270-4952-b1df-5f0764e38fb1",
   "metadata": {},
   "source": [
    "# Innhent rådatatabell"
   ]
  },
  {
   "cell_type": "code",
   "execution_count": null,
   "id": "87e429b4-667a-4f8d-9b7b-48b60ce9d54c",
   "metadata": {
    "tags": []
   },
   "outputs": [],
   "source": [
    "raadata <- dbReadTable(con, \"raadata\") %>% select(-index)\n",
    "dbDisconnect(con)\n",
    "head(raadata)"
   ]
  },
  {
   "cell_type": "markdown",
   "id": "44ea7beb-ffe1-4115-85a7-3bcc6427b223",
   "metadata": {},
   "source": [
    "## Velger ut relevante numeriske variabler fra JSON-fil\n",
    "Edith fungerer for øyeblikket best for numeriske variabler. Koden vil virke dårlig med kategoriske variabler og vil ikke fungere dersom det ligger kategoriske variabler i variabler.json-filen."
   ]
  },
  {
   "cell_type": "code",
   "execution_count": null,
   "id": "2c02712d-0f8e-4e4b-bd57-0c214f86b576",
   "metadata": {},
   "outputs": [],
   "source": [
    "raadata2 <- raadata[raadata$VARIABEL %in% variabler$variabler,]\n",
    "\n",
    "#Erstatter komma med punktum i verdikolonnene og gjør disse numeriske - nødvendig pga. måten data leses inn fra Dynarev.\n",
    "raadata3 <- raadata2 %>%\n",
    "    #OBS: her selekteres variabler på bakgrunn av om string starter med År_. Må endres dersom annerledes i config\n",
    "    mutate_at(vars(starts_with(\"År_\")), ~str_replace(., \",\", \".\")) %>% \n",
    "    mutate_at(vars(starts_with(\"År_\")), as.numeric)"
   ]
  },
  {
   "cell_type": "code",
   "execution_count": null,
   "id": "9153d2fc-b1e1-4965-a009-c805f0e4d5fc",
   "metadata": {
    "tags": []
   },
   "outputs": [],
   "source": [
    "beregnet_diff <- raadata3 %>%\n",
    "    mutate(DIFF = eval(as.name(t)) - eval(as.name(t_1)),\n",
    "           DIFF_PST = DIFF/eval(as.name(t_1)))"
   ]
  },
  {
   "cell_type": "code",
   "execution_count": null,
   "id": "a11a26c2-2683-4d04-9797-bf124fbb8268",
   "metadata": {
    "tags": []
   },
   "outputs": [],
   "source": [
    "raadata_pivotert <- beregnet_diff %>%\n",
    "                #select(ORGNR, VARIABEL, matches(\"År\"), DIFF, DIFF_PST) %>%\n",
    "                distinct(ORGNR, VARIABEL, .keep_all = TRUE) %>% #Fant en dublett på intfou på et orgnr\n",
    "                pivot_wider(id_cols = c(\"ORGNR\", \"NAVN\", \"NACE1\"),\n",
    "                            names_from = \"VARIABEL\",\n",
    "                            values_from = c(all_of(t), all_of(t_1), all_of(t_2), DIFF, DIFF_PST)) %>%\n",
    "                rename_at(vars(starts_with(t)), ~str_remove(., paste0(t,\"_\")))"
   ]
  },
  {
   "cell_type": "markdown",
   "id": "4d937724-f1ed-422d-a458-3f518c627b72",
   "metadata": {},
   "source": [
    "## Lager feillister\n",
    "#### Alternativ 1: hardkoder hver enkelt variabelnavn"
   ]
  },
  {
   "cell_type": "code",
   "execution_count": null,
   "id": "6b8aad55-c2f2-43cc-8498-22cb7d1f37ab",
   "metadata": {
    "tags": []
   },
   "outputs": [],
   "source": [
    "intfou_stor_diff <- raadata_pivotert %>%\n",
    "            filter(DIFF_PST_INTFOU > 1) %>%\n",
    "            mutate(feilliste = \"FoU-kostnader store differanser\") %>%\n",
    "            select(feilliste, ORGNR, NAVN, matches(\"INTFOU\"), NACE1)\n",
    "\n",
    "fouars_stor_diff <- raadata_pivotert %>%\n",
    "    filter(DIFF_PST_FOUARS > 1) %>%\n",
    "    mutate(feilliste = \"FoU-årsverk store differanser\") %>%\n",
    "    select(feilliste, ORGNR, NAVN, matches(\"FOUARS\"), NACE1)\n",
    "\n",
    "feilliste_master <- intfou_stor_diff %>%\n",
    "          bind_rows(fouars_stor_diff) %>%\n",
    "          mutate(kommentar = '') %>%\n",
    "          select(kommentar, feilliste, everything())\n",
    "\n",
    "print(feilliste_master)"
   ]
  },
  {
   "cell_type": "markdown",
   "id": "45c57af9-2acd-4e60-b846-2a86f9aa03b1",
   "metadata": {},
   "source": [
    "#### Alternativ 2\n",
    "Lager en funksjon som lister ut alle enheter+variabler med endringer på over 100 % sammenlignet med forrige periode"
   ]
  },
  {
   "cell_type": "code",
   "execution_count": null,
   "id": "3eefbf1d-09c1-483b-bfae-10bb7a44a5d1",
   "metadata": {
    "tags": []
   },
   "outputs": [],
   "source": [
    "kontroller_stor_endring <- function(variabel){\n",
    "    raadata_pivotert %>%\n",
    "        select(ORGNR, NAVN, matches(variabel), NACE1) %>%\n",
    "        filter_at(vars(paste0(\"DIFF_PST_\",variabel)), all_vars(. > 1)) %>%\n",
    "        mutate(feilliste = paste0(variabel, \"_stor_diff\"))\n",
    "}"
   ]
  },
  {
   "cell_type": "code",
   "execution_count": null,
   "id": "2538159b-88bf-4070-950a-7a16b1f3aaf6",
   "metadata": {
    "tags": []
   },
   "outputs": [],
   "source": [
    "#lager en feilliste ved å kjøre funksjonen for én variabel (fnutter rundt). INTFOU er en variabel fra FoU-undersøkelsen.\n",
    "kontroller_stor_endring(\"INTFOU\") %>% head()"
   ]
  },
  {
   "cell_type": "code",
   "execution_count": null,
   "id": "4d55e09c-1302-4306-a7db-a46bfdbf6bec",
   "metadata": {},
   "outputs": [],
   "source": [
    "#Lister opp numeriske variabler\n",
    "num_variabler <- unique(raadata3$VARIABEL)\n",
    "\n",
    "#For-løkke for å kjøre funksjonen for alle numeriske variabler og slå disse sammen til en masterfil\n",
    "feilliste_master <- data.frame()\n",
    "for (i in num_variabler){\n",
    "  kontroll_endring <- kontroller_stor_endring(i)\n",
    "  feilliste_master <- bind_rows(feilliste_master, kontroll_endring)\n",
    "}\n",
    "\n",
    "dim(feilliste_master)"
   ]
  },
  {
   "cell_type": "code",
   "execution_count": null,
   "id": "10ea61ab-8163-4a63-a50e-50ef83fd1e7a",
   "metadata": {},
   "outputs": [],
   "source": [
    "feilliste_master <- feilliste_master %>%\n",
    "  mutate(kommentar = \"\") %>%\n",
    "  select(kommentar, feilliste, everything())"
   ]
  },
  {
   "cell_type": "code",
   "execution_count": null,
   "id": "51bfe05d-80d6-458a-bb1a-0b0685b434e5",
   "metadata": {},
   "outputs": [],
   "source": [
    "#Appen takler et begrenset antall kolonner. Tester derfor med de første 50.\n",
    "feilliste <- feilliste_master %>% select(1:50)"
   ]
  },
  {
   "cell_type": "markdown",
   "id": "12d50a9e-c805-45bc-a9ce-a0e7e6914db3",
   "metadata": {},
   "source": [
    "## Lagrer feilliste på område hvor feillisten skal innhentes fra i Edith"
   ]
  },
  {
   "cell_type": "code",
   "execution_count": null,
   "id": "334db6d6-e776-4be5-925e-0867a0345147",
   "metadata": {},
   "outputs": [],
   "source": [
    "#Filsti angis av config-fil\n",
    "write.csv(feilliste_master, paste0(config$data$filsti, \"/feilliste.csv\"), row.names = FALSE)"
   ]
  }
 ],
 "metadata": {
  "kernelspec": {
   "display_name": "R",
   "language": "R",
   "name": "ir"
  },
  "language_info": {
   "codemirror_mode": "r",
   "file_extension": ".r",
   "mimetype": "text/x-r-source",
   "name": "R",
   "pygments_lexer": "r",
   "version": "4.1.3"
  }
 },
 "nbformat": 4,
 "nbformat_minor": 5
}
