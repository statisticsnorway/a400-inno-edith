{
 "cells": [
  {
   "cell_type": "markdown",
   "id": "c3f72526-8a8a-4748-9ab6-b711903fd7db",
   "metadata": {},
   "source": [
    "# Notebook for å opprette sqlite-database og raadata-tabell som grunnlag for visualisering med EDITH\n",
    "\n",
    "### OBS! Denne kjøringen henter ut som default alle data knyttet til ett delregister. Dersom man kun ønsker data for ett (av flere skjema) må det legges til en seleksjon i uttrekket fra DYNAREV"
   ]
  },
  {
   "cell_type": "markdown",
   "id": "experienced-cincinnati",
   "metadata": {},
   "source": [
    "# Laster inn pakker"
   ]
  },
  {
   "cell_type": "code",
   "execution_count": null,
   "id": "broadband-psychology",
   "metadata": {},
   "outputs": [],
   "source": [
    "import pandas as pd\n",
    "import sqlite3\n",
    "from sqlalchemy import Table, create_engine\n",
    "from sqlalchemy.sql import select\n",
    "from flask_sqlalchemy import SQLAlchemy\n",
    "import getpass\n",
    "import cx_Oracle\n",
    "import json\n",
    "import os\n",
    "\n",
    "from models.models_delt import connect\n",
    "## Connect-funksjonen ligger i den fila, kjører i stedet som funksjon"
   ]
  },
  {
   "cell_type": "markdown",
   "id": "built-suspension",
   "metadata": {},
   "source": [
    "# Laster inn forhåndsdefinert config.json\n",
    "#### Fila må være fylt ut med riktige parametre og ligge i samme mappe som denne notebook'en"
   ]
  },
  {
   "cell_type": "code",
   "execution_count": null,
   "id": "invisible-slope",
   "metadata": {},
   "outputs": [],
   "source": [
    "#print(os.getcwd())\n",
    "\n",
    "with open(\"config.json\") as config: # Laster in valg fra config.json\n",
    "    config = json.load(config)"
   ]
  },
  {
   "cell_type": "code",
   "execution_count": null,
   "id": "aggressive-craft",
   "metadata": {},
   "outputs": [],
   "source": [
    "conn, engine, db = connect()\n",
    "#engine, db = connect()"
   ]
  },
  {
   "cell_type": "markdown",
   "id": "lightweight-rescue",
   "metadata": {},
   "source": [
    "# Kobler til dynarev / oracle\n",
    "#### Skriv inn eget Oracle passord"
   ]
  },
  {
   "cell_type": "code",
   "execution_count": null,
   "id": "female-panel",
   "metadata": {},
   "outputs": [],
   "source": [
    "bruker = getpass.getuser()[:3]  # Henter brukernavn\n",
    "db = cx_Oracle.connect(bruker,getpass.getpass(), \"DB1P\")  # Skriv inn Oracle Passord"
   ]
  },
  {
   "cell_type": "markdown",
   "id": "mental-commodity",
   "metadata": {},
   "source": [
    "### Laster inn informasjon om enhetene"
   ]
  },
  {
   "cell_type": "markdown",
   "id": "understanding-submission",
   "metadata": {},
   "source": [
    "#### Liste med alle delreg_nr"
   ]
  },
  {
   "cell_type": "code",
   "execution_count": null,
   "id": "legendary-concert",
   "metadata": {},
   "outputs": [],
   "source": [
    "liste = []\n",
    "for i in config[\"perioder\"]:\n",
    "    liste = liste + [config[\"perioder\"][i][\"delreg\"]]"
   ]
  },
  {
   "cell_type": "code",
   "execution_count": null,
   "id": "severe-reasoning",
   "metadata": {},
   "outputs": [],
   "source": [
    "# Henter informasjon fra SFU, ikke nødvendig å endre noe her!\n",
    "# _KAN_ legge til ytterligere informasjon fra SFU, f eks aggregater. I koden under lages aggregat for kommune og fylke (se Oppsett_config_og_database.ipynb)\n",
    "\n",
    "info_foretak_dict = {}\n",
    "for i in liste:\n",
    "    info_foretak_dict[i] = pd.read_sql(f\"SELECT NAVN, ORGNR, ORG_FORM, NACE1,ENHETS_ID, ENHETS_TYPE,F_KOMMUNENR AS KOMMUNE, SUBSTR(F_KOMMUNENR,1,2) AS FYLKE FROM dynarev.vw_enhet_i_delreg WHERE DELREG_NR = {i}\", con = db)\n",
    "    info_foretak_dict[i][\"orgnrNavn\"] = info_foretak_dict[i][\"ORGNR\"]+str(\": \")+info_foretak_dict[i][\"NAVN\"] # Lager en ny kolonne som heter OrgnrNAVN\n",
    "#print(info_foretak_dict)"
   ]
  },
  {
   "cell_type": "markdown",
   "id": "endless-saver",
   "metadata": {},
   "source": [
    "### Laster inn skjemadata for alle perioder\n",
    "\n",
    "##### Eks på ekstra betingelse ved seleksjon fra vw_skjema_data: \n",
    "f\"SELECT ENHETS_ID, FELT_ID, FELT_VERDI FROM DYNAREV.VW_SKJEMA_DATA WHERE DELREG_NR = {i} AND AKTIV=1 <b>AND skjema='RA-xxxx'</b>\"\n"
   ]
  },
  {
   "cell_type": "code",
   "execution_count": null,
   "id": "established-middle",
   "metadata": {},
   "outputs": [],
   "source": [
    "# Kan endre navn fra FELT_ID (fra Dynarev) til noe man ønsker selv. Default er satt til VARIABEL. \n",
    "# Kan endres av ansvarlig hvis behov, men da må det også endres i models- og templates-variabler\n",
    "\n",
    "data_skjema_dict = {}\n",
    "for i in liste:\n",
    "    data_skjema_dict[i] = pd.read_sql(f\"SELECT ENHETS_ID,RAD_NR,LOPENR,SKJEMA, FELT_ID as VARIABEL, FELT_VERDI, DELREG_NR FROM DYNAREV.VW_SKJEMA_DATA WHERE DELREG_NR = {i} AND AKTIV=1 \", con = db)"
   ]
  },
  {
   "cell_type": "code",
   "execution_count": null,
   "id": "regular-ending",
   "metadata": {
    "tags": []
   },
   "outputs": [],
   "source": [
    "for i in config[\"perioder\"]:\n",
    "    data_skjema_dict[config[\"perioder\"][i][\"delreg\"]][config[\"perioder\"][i][\"periode\"]] = data_skjema_dict[config[\"perioder\"][i][\"delreg\"]]['FELT_VERDI']\n",
    "    data_skjema_dict[config[\"perioder\"][i][\"delreg\"]].drop(['FELT_VERDI'], axis = 1, inplace = True)\n",
    "#print(data_skjema_dict)"
   ]
  },
  {
   "cell_type": "markdown",
   "id": "following-judgment",
   "metadata": {},
   "source": [
    "### Sammenkobler skjemadata og informasjon om foretak"
   ]
  },
  {
   "cell_type": "code",
   "execution_count": null,
   "id": "sustained-taxation",
   "metadata": {},
   "outputs": [],
   "source": [
    "if len(data_skjema_dict) == 1:\n",
    "    data_komplett = data_skjema_dict[config[\"perioder\"][\"t\"][\"delreg\"]]\n",
    "elif len(data_skjema_dict) > 1:\n",
    "    data_komplett = data_skjema_dict[config[\"perioder\"][\"t\"][\"delreg\"]]\n",
    "    config[\"perioder\"].pop(\"t\")\n",
    "    for i in config[\"perioder\"]:\n",
    "        data_komplett = pd.merge(data_komplett, data_skjema_dict[config[\"perioder\"][i][\"delreg\"]][[config[\"perioder\"][i][\"periode\"], \"ENHETS_ID\", \"VARIABEL\"]], on = ['ENHETS_ID', \"VARIABEL\"], how = 'left')\n",
    "        #print(data_komplett.head())"
   ]
  },
  {
   "cell_type": "code",
   "execution_count": null,
   "id": "manufactured-intro",
   "metadata": {},
   "outputs": [],
   "source": [
    "#print(os.getcwd())\n",
    "\n",
    "with open(\"config.json\") as config: # Laster in valg fra config.json\n",
    "    config = json.load(config)"
   ]
  },
  {
   "cell_type": "code",
   "execution_count": null,
   "id": "quality-program",
   "metadata": {},
   "outputs": [],
   "source": [
    "# Rengjør dataene for data_komplett, som er den nye dataframen med informasjon om skjema\n",
    "\n",
    "data_komplett = data_komplett.dropna(subset=[config['perioder']['t']['periode']]).drop_duplicates().reset_index(drop=True)\n",
    "#print(data_komplett.head())"
   ]
  },
  {
   "cell_type": "code",
   "execution_count": null,
   "id": "honest-consensus",
   "metadata": {
    "tags": []
   },
   "outputs": [],
   "source": [
    "# Kobler på sammen informasjon om foretak og skjema med en venstrekobling til data_komplett. ENHETS_ID er koblingsnøkkel. \n",
    "\n",
    "data_komplett = pd.merge(data_komplett, info_foretak_dict[config[\"perioder\"][\"t\"][\"delreg\"]], on = ['ENHETS_ID'], how = 'left').reset_index(drop=True)\n",
    "#data_komplett.head()"
   ]
  },
  {
   "cell_type": "code",
   "execution_count": null,
   "id": "4b8e330f-55c8-48b4-b84f-7ee36630e227",
   "metadata": {},
   "outputs": [],
   "source": [
    "# Kobler på flere aggregater\n",
    "\n",
    "aggregater = {\n",
    "    \"Stratum\": {\n",
    "        \"01\": \"Mini\",\n",
    "        \"02\": \"Små\",\n",
    "        \"03\": \"Mellomstore\",\n",
    "        \"04\": \"Store\",\n",
    "        \"05\": \"Mega\",\n",
    "        \"98\": \"Med dyr, uten areal\",\n",
    "        \"99\": \"Veksthus\"\n",
    "    },\n",
    "    \"Driftsform\": {\n",
    "        \"01\": \"Korn og oljevekster\",\n",
    "        \"02\": \"Øvrige jordbruksvekster\",\n",
    "        \"03\": \"Hagebruksvekster\",\n",
    "        \"04\": \"Storfe mjølkeproduksjon\",\n",
    "        \"05\": \"Storfe kjøttproduksjon\",\n",
    "        \"06\": \"Storfe mjølk- og kjøttproduksjon\",\n",
    "        \"07\": \"Sau\",\n",
    "        \"08\": \"Øvrige grovfôretende dyr og blandede produksjoner\",\n",
    "        \"09\": \"Svin og fjørfe\"\n",
    "    }\n",
    "}\n",
    "\n",
    "df_aggregater = pd.read_sas(\n",
    "    \"/ssb/stamme02/jordbruk/sblbrund/wk8/lu_utvalg.sas7bdat\",\n",
    "    format = \"sas7bdat\",\n",
    "    encoding=\"latin-1\"\n",
    ")\n",
    "\n",
    "df_aggregater[\"Stratum\"] = df_aggregater[\"STRATUM\"].str[0:2]\n",
    "\n",
    "df_aggregater[\"Driftsform\"] = df_aggregater[\"STRATUM\"].str[3:5]\n",
    "\n",
    "for i in aggregater:\n",
    "    df_aggregater[i] = df_aggregater[i].replace(aggregater[i])\n",
    "\n",
    "df_aggregater = df_aggregater[[\"ORGNR\"] + list(aggregater.keys())]\n",
    "\n",
    "data_komplett = pd.merge(data_komplett, df_aggregater, on = \"ORGNR\")"
   ]
  },
  {
   "cell_type": "code",
   "execution_count": null,
   "id": "random-egyptian",
   "metadata": {
    "tags": []
   },
   "outputs": [],
   "source": [
    "# data_komplett = data_komplett.rename(columns = {'FELT_ID': 'Variabel'})\n",
    "data_komplett.to_sql(f'{config[\"tabeller\"][\"raadata\"]}', con=engine, if_exists=\"replace\",)"
   ]
  },
  {
   "cell_type": "markdown",
   "id": "offensive-momentum",
   "metadata": {},
   "source": [
    "### Kontrollkjøring "
   ]
  },
  {
   "cell_type": "code",
   "execution_count": null,
   "id": "specialized-accreditation",
   "metadata": {},
   "outputs": [],
   "source": [
    "#Kontrollkjøring på at tabell(er) er opprettet\n",
    "tabeller = pd.read_sql(\"SELECT name FROM sqlite_master  WHERE type='table'\", con=engine)\n",
    "\n",
    "# Skriver ut hvilke tabeller databasen inneholder\n",
    "tabeller\n",
    "\n"
   ]
  },
  {
   "cell_type": "code",
   "execution_count": null,
   "id": "satellite-jacket",
   "metadata": {},
   "outputs": [],
   "source": [
    "# Kontrollkjøring for sjekk av innhold i raadata-tabell\n",
    "grunnlag = pd.read_sql(\"SELECT * FROM raadata\", con=engine)\n",
    "#grunnlag.head(10)"
   ]
  },
  {
   "cell_type": "code",
   "execution_count": null,
   "id": "0e07fbf0-e95a-4fe4-b397-7555aec4c2c7",
   "metadata": {},
   "outputs": [],
   "source": []
  }
 ],
 "metadata": {
  "kernelspec": {
   "display_name": "Python 3",
   "language": "python",
   "name": "python3"
  },
  "language_info": {
   "codemirror_mode": {
    "name": "ipython",
    "version": 3
   },
   "file_extension": ".py",
   "mimetype": "text/x-python",
   "name": "python",
   "nbconvert_exporter": "python",
   "pygments_lexer": "ipython3",
   "version": "3.8.8"
  }
 },
 "nbformat": 4,
 "nbformat_minor": 5
}
