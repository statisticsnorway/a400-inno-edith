{
 "cells": [
  {
   "cell_type": "markdown",
   "id": "c3f72526-8a8a-4748-9ab6-b711903fd7db",
   "metadata": {},
   "source": [
    "# Notebook for å opprette sqlite-database og raadata-tabell som grunnlag for visualisering med EDITH"
   ]
  },
  {
   "cell_type": "markdown",
   "id": "experienced-cincinnati",
   "metadata": {},
   "source": [
    "# Laster inn pakker"
   ]
  },
  {
   "cell_type": "code",
   "execution_count": null,
   "id": "broadband-psychology",
   "metadata": {},
   "outputs": [],
   "source": [
    "import pandas as pd\n",
    "import sqlite3\n",
    "from sqlalchemy import Table, create_engine\n",
    "from sqlalchemy.sql import select\n",
    "from flask_sqlalchemy import SQLAlchemy\n",
    "import getpass\n",
    "import cx_Oracle\n",
    "import json\n",
    "import os\n",
    "\n",
    "## from models.models_delt import connect\n",
    "## Connect-funksjonen ligger i den fila, kjører i stedet som funksjon"
   ]
  },
  {
   "cell_type": "markdown",
   "id": "built-suspension",
   "metadata": {},
   "source": [
    "# Laster inn forhåndsdefinert config.json\n",
    "#### Fila må være fylt ut med riktige parametre og ligge i samme mappe som denne notebook'en"
   ]
  },
  {
   "cell_type": "code",
   "execution_count": null,
   "id": "invisible-slope",
   "metadata": {},
   "outputs": [],
   "source": [
    "#print(os.getcwd())\n",
    "\n",
    "with open(\"config.json\") as config: # Laster in valg fra config.json\n",
    "    config = json.load(config)"
   ]
  },
  {
   "cell_type": "code",
   "execution_count": null,
   "id": "fdefb917-85c6-4902-b071-1dd7a38293ab",
   "metadata": {
    "tags": []
   },
   "outputs": [],
   "source": [
    "# Funksjon for å opprette sqlite-database og etablere \"connection\". Det er viktig at filsti er satt riktig i config.json\n",
    "\n",
    "def connect():\n",
    "    engine = create_engine(f\"sqlite:///{config['data']['filsti']}/edith.sqlite\")\n",
    "    conn = sqlite3.connect(f\"{config['data']['filsti']}/edith.sqlite\", timeout=15) #Må endres hvis koblingen skal være opp mot dynarev\n",
    "    db = SQLAlchemy()\n",
    "    return conn, engine, db\n"
   ]
  },
  {
   "cell_type": "code",
   "execution_count": null,
   "id": "aggressive-craft",
   "metadata": {},
   "outputs": [],
   "source": [
    "conn, engine, db = connect()\n",
    "#engine, db = connect()"
   ]
  },
  {
   "cell_type": "markdown",
   "id": "lightweight-rescue",
   "metadata": {},
   "source": [
    "# Kobler til dynarev / oracle\n",
    "#### Skriv inn eget brukernavn"
   ]
  },
  {
   "cell_type": "code",
   "execution_count": null,
   "id": "female-panel",
   "metadata": {},
   "outputs": [],
   "source": [
    "bruker = getpass.getuser()[:3]\n",
    "db = cx_Oracle.connect(bruker,getpass.getpass(), \"DB1P\")"
   ]
  },
  {
   "cell_type": "markdown",
   "id": "mental-commodity",
   "metadata": {},
   "source": [
    "### Laster inn informasjon om enhetene"
   ]
  },
  {
   "cell_type": "markdown",
   "id": "understanding-submission",
   "metadata": {},
   "source": [
    "#### Liste med alle delreg_nr"
   ]
  },
  {
   "cell_type": "code",
   "execution_count": null,
   "id": "legendary-concert",
   "metadata": {},
   "outputs": [],
   "source": [
    "liste = []\n",
    "for i in config[\"perioder\"]:\n",
    "    liste = liste + [config[\"perioder\"][i][\"delreg\"]]"
   ]
  },
  {
   "cell_type": "code",
   "execution_count": null,
   "id": "severe-reasoning",
   "metadata": {},
   "outputs": [],
   "source": [
    "# Henter informasjon fra SFU, ikke endre noe her!\n",
    "\n",
    "info_foretak_dict = {}\n",
    "for i in liste:\n",
    "    info_foretak_dict[i] = pd.read_sql(f\"SELECT NAVN, ORGNR, ORG_FORM, NACE1, NACE2, ENHETS_ID, ENHETS_TYPE FROM dynarev.vw_enhet_i_delreg WHERE DELREG_NR = {i}\", con = db)\n",
    "    info_foretak_dict[i][\"orgnrNavn\"] = info_foretak_dict[i][\"ORGNR\"]+str(\": \")+info_foretak_dict[i][\"NAVN\"]\n",
    "#print(info_foretak_dict)"
   ]
  },
  {
   "cell_type": "markdown",
   "id": "endless-saver",
   "metadata": {},
   "source": [
    "### Laster inn skjemadata for alle perioder"
   ]
  },
  {
   "cell_type": "code",
   "execution_count": null,
   "id": "established-middle",
   "metadata": {},
   "outputs": [],
   "source": [
    "# Kan endre navn fra FELT_ID (fra Dynarev) til noe man ønsker selv. Default er satt til VARIABEL. \n",
    "# Kan endres av ansvarlig hvis behov, men da må det også endres i models- og templates-variabler\n",
    "\n",
    "data_skjema_dict = {}\n",
    "for i in liste:\n",
    "    data_skjema_dict[i] = pd.read_sql(f\"SELECT ENHETS_ID, FELT_ID as VARIABEL, FELT_VERDI, DELREG_NR FROM DYNAREV.VW_SKJEMA_DATA WHERE DELREG_NR = {i} AND AKTIV=1\", con = db)"
   ]
  },
  {
   "cell_type": "code",
   "execution_count": null,
   "id": "regular-ending",
   "metadata": {
    "jupyter": {
     "outputs_hidden": true
    },
    "tags": []
   },
   "outputs": [],
   "source": [
    "for i in config[\"perioder\"]:\n",
    "    data_skjema_dict[config[\"perioder\"][i][\"delreg\"]][config[\"perioder\"][i][\"periode\"]] = data_skjema_dict[config[\"perioder\"][i][\"delreg\"]]['FELT_VERDI']\n",
    "    data_skjema_dict[config[\"perioder\"][i][\"delreg\"]].drop(['FELT_VERDI'], axis = 1, inplace = True)\n",
    "#print(data_skjema_dict)"
   ]
  },
  {
   "cell_type": "markdown",
   "id": "following-judgment",
   "metadata": {},
   "source": [
    "### Sammenkobler skjemadata og informasjon om foretak"
   ]
  },
  {
   "cell_type": "code",
   "execution_count": null,
   "id": "sustained-taxation",
   "metadata": {},
   "outputs": [],
   "source": [
    "if len(data_skjema_dict) == 1:\n",
    "    data_komplett = data_skjema_dict[config[\"perioder\"][\"t\"][\"delreg\"]]\n",
    "elif len(data_skjema_dict) > 1:\n",
    "    data_komplett = data_skjema_dict[config[\"perioder\"][\"t\"][\"delreg\"]]\n",
    "    config[\"perioder\"].pop(\"t\")\n",
    "    for i in config[\"perioder\"]:\n",
    "        data_komplett = pd.merge(data_komplett, data_skjema_dict[config[\"perioder\"][i][\"delreg\"]][[config[\"perioder\"][i][\"periode\"], \"ENHETS_ID\", \"VARIABEL\"]], on = ['ENHETS_ID', \"VARIABEL\"], how = 'left')\n",
    "        #print(data_komplett.head())"
   ]
  },
  {
   "cell_type": "code",
   "execution_count": null,
   "id": "manufactured-intro",
   "metadata": {},
   "outputs": [],
   "source": [
    "#print(os.getcwd())\n",
    "\n",
    "with open(\"config.json\") as config: # Laster in valg fra config.json\n",
    "    config = json.load(config)"
   ]
  },
  {
   "cell_type": "code",
   "execution_count": null,
   "id": "quality-program",
   "metadata": {},
   "outputs": [],
   "source": [
    "data_komplett = data_komplett.dropna(subset=[config['perioder']['t']['periode']]).drop_duplicates().reset_index(drop=True)\n",
    "#print(data_komplett.head())"
   ]
  },
  {
   "cell_type": "code",
   "execution_count": null,
   "id": "honest-consensus",
   "metadata": {
    "jupyter": {
     "outputs_hidden": true
    },
    "tags": []
   },
   "outputs": [],
   "source": [
    "data_komplett = pd.merge(data_komplett, info_foretak_dict[config[\"perioder\"][\"t\"][\"delreg\"]], on = ['ENHETS_ID'], how = 'left').reset_index(drop=True)\n",
    "#data_komplett.head()"
   ]
  },
  {
   "cell_type": "code",
   "execution_count": null,
   "id": "random-egyptian",
   "metadata": {
    "tags": []
   },
   "outputs": [],
   "source": [
    "# data_komplett = data_komplett.rename(columns = {'FELT_ID': 'Variabel'})\n",
    "data_komplett.to_sql(f'{config[\"tabeller\"][\"raadata\"]}', con=engine, if_exists=\"replace\",)"
   ]
  },
  {
   "cell_type": "markdown",
   "id": "offensive-momentum",
   "metadata": {},
   "source": [
    "### Kontrollkjøring "
   ]
  },
  {
   "cell_type": "code",
   "execution_count": null,
   "id": "specialized-accreditation",
   "metadata": {},
   "outputs": [],
   "source": [
    "#Kontrollkjøring på at tabell(er) er opprettet\n",
    "tabeller = pd.read_sql(\"SELECT name FROM sqlite_master  WHERE type='table'\", con=engine)\n",
    "\n",
    "# Skriver ut hvilke tabeller databasen inneholder\n",
    "tabeller\n",
    "\n",
    "# Kontrollkjøring for sjekk av innhold i raadata-tabell\n",
    "#grunnlag = pd.read_sql(\"SELECT * FROM raadata\", con=engine)\n",
    "#grunnlag"
   ]
  },
  {
   "cell_type": "code",
   "execution_count": null,
   "id": "satellite-jacket",
   "metadata": {},
   "outputs": [],
   "source": []
  }
 ],
 "metadata": {
  "kernelspec": {
   "display_name": "Python 3",
   "language": "python",
   "name": "python3"
  },
  "language_info": {
   "codemirror_mode": {
    "name": "ipython",
    "version": 3
   },
   "file_extension": ".py",
   "mimetype": "text/x-python",
   "name": "python",
   "nbconvert_exporter": "python",
   "pygments_lexer": "ipython3",
   "version": "3.6.8"
  }
 },
 "nbformat": 4,
 "nbformat_minor": 5
}
