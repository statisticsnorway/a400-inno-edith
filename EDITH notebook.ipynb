{
 "cells": [
  {
   "cell_type": "markdown",
   "id": "ad3806a9-28d6-4aa8-8998-04d0f9924061",
   "metadata": {},
   "source": [
    "# Edith\n",
    "\n",
    "## Definer portnummer og visningsmodus nedenfor"
   ]
  },
  {
   "cell_type": "code",
   "execution_count": null,
   "id": "e285d70b-ba13-4e75-be7e-47549ab47343",
   "metadata": {},
   "outputs": [],
   "source": [
    "# Du må finne et portnummer som ikke er i bruk, fortrinnsvis mellom 8000 og 8999\n",
    "portnummer = 8157\n",
    "\n",
    "visningsmodus = \"jupyterlab\""
   ]
  },
  {
   "cell_type": "markdown",
   "id": "461731c0-ba84-418c-b425-9a5ff61efc0e",
   "metadata": {},
   "source": [
    "### Koden nedenfor trenger du ikke endre. \n",
    "#### OBS! Den aller siste cellen må kjøres for å avslutte Edith når du skal lukke programmet, det holder ikke å stoppe prosessen.\n",
    "\n",
    "##### Dersom man opplever at Notebook'en henger seg opp (kan skje ved initiering av Dash, eller etter feilmelding ved oppstart) må man restarte kernel.\n",
    "\n",
    "^ Det må sjekkes"
   ]
  },
  {
   "cell_type": "code",
   "execution_count": null,
   "id": "5b4a6b18-4428-4e81-892e-e952e2ea7e1b",
   "metadata": {},
   "outputs": [],
   "source": [
    "from jupyter_dash import JupyterDash\n",
    "from jupyter_dash.comms import _send_jupyter_config_comm_request\n",
    "import time\n",
    "\n",
    "_send_jupyter_config_comm_request()"
   ]
  },
  {
   "cell_type": "code",
   "execution_count": null,
   "id": "b049a39a-8684-4944-913f-e1b026c58ffc",
   "metadata": {},
   "outputs": [],
   "source": [
    "JupyterDash.infer_jupyter_proxy_config()"
   ]
  },
  {
   "cell_type": "markdown",
   "id": "6d331d30-e16d-4cbb-be6f-b3fdbc16396d",
   "metadata": {},
   "source": [
    "#### For å skru av/på debug-funksjon, endre i nederste linje i cellen under \n",
    "    (app.run_server(debug=True, port=str(portnummer), mode=visningsmodus))"
   ]
  },
  {
   "cell_type": "code",
   "execution_count": null,
   "id": "b3f849ad-91a0-4ef1-b598-8c21a29f99cc",
   "metadata": {},
   "outputs": [],
   "source": [
    "import sqlite3\n",
    "from sqlalchemy import Table, create_engine\n",
    "from sqlalchemy.sql import select\n",
    "from flask_sqlalchemy import SQLAlchemy\n",
    "import cx_Oracle\n",
    "import pandas as pd\n",
    "import dash\n",
    "\n",
    "from models.models_delt import connect\n",
    "from models.models_homepage import svarinngang_linje, svarinngang_kake, svarinngang_tbl1, klargjor_tbl1_svar\n",
    "from models.models_grid import treeplot, table_grid, scatterplot_grid, histogram_grid, boxplot_grid, sammenlign_editert_ueditert\n",
    "from models.models_enhet import enhetstabell1, enhet_plot, enhetstabell_store, update_columns, enhet_plot_bar_agg, offcanvas_innhold\n",
    "from models.models_logg import logg_tabell\n",
    "from models.models_kontroller import feilliste_tabell, innhent_feilliste, oppdater_feilliste_db, model_feilliste_figur, kontroll_enhetstabell_store, kontroll_update_columns, kontroll_enhetstabell, kontroll_offcanvas_innhold\n",
    "\n",
    "from templates.homepage import Svarinngang\n",
    "from templates.navbar import Navbar\n",
    "from templates.grid import Grid\n",
    "from templates.enhet import Enhet\n",
    "from templates.logg import Logg\n",
    "from templates.kontroller import Kontroller\n",
    "\n",
    "from dash.dependencies import Input, Output, State\n",
    "from dash.exceptions import PreventUpdate\n",
    "import dash_core_components as dcc\n",
    "import dash_html_components as html\n",
    "import dash_bootstrap_components as dbc\n",
    "import dash_table as dt\n",
    "import dash_cytoscape as cyto\n",
    "import dash_pivottable as dpt\n",
    "import plotly.express as px\n",
    "import plotly.graph_objects as go\n",
    "import plotly.io as pio\n",
    "import dash_auth\n",
    "import flask\n",
    "\n",
    "from flask import request # for brukernavn\n",
    "\n",
    "from datetime import datetime\n",
    "from datetime import timedelta\n",
    "\n",
    "import json\n",
    "\n",
    "with open(\"config.json\") as config: # Laster in valg fra config.json\n",
    "    code = json.load(config)\n",
    "\n",
    "#Funksjon som kobler opp mot .sqlite\n",
    "def connect():\n",
    "    conn = sqlite3.connect(f\"{code['data']['filsti']}/edith.sqlite\", timeout=15) #Må endres hvis koblingen skal være opp mot dynarev\n",
    "    engine = create_engine(f\"sqlite:///{code['data']['filsti']}/edith.sqlite\")\n",
    "    db = SQLAlchemy()\n",
    "    return conn, engine, db\n",
    "conn, engine, db = connect()\n",
    "\n",
    "with open(\"config.json\") as config: # Laster in valg fra config.json\n",
    "    config = json.load(config)\n",
    "\n",
    "\n",
    "app = JupyterDash(__name__)\n",
    "app.config.suppress_callback_exceptions = True\n",
    "\n",
    "\n",
    "# Layout for plotly, bruker rgba. Red Green Blue Alpha, sistnevnte er hvor gjennomsiktig det er, ha mest mulig gjennomsiktig så kan bakgrunner enklere styres av CSS fil\n",
    "edith_layout = go.layout.Template({ # Styler plotly figurer\n",
    "    'data':{\n",
    "        'scatter':[\n",
    "            {'marker': \n",
    "                {'colorbar': \n",
    "                    {'outlinewidth': 0, 'ticks': ''}\n",
    "                },\n",
    "                'type': 'scatter'\n",
    "            }\n",
    "        ]\n",
    "    },\n",
    "    'layout': {\n",
    "        'colorway': [\"#1A9D49\", \"#C78800\", \"#1D9DE2\", \"#A3136C\", \"#909090\", \"#075745\", \"#0F2080\", \"#471F00\", \"#C775A7\", \"#000000\"], #Default farger, brukes i rekkefølgen de står\n",
    "        'font': {\n",
    "            'color': '#000000'\n",
    "        },\n",
    "        'paper_bgcolor': 'rgba(0,0,0,0)', # Bakgrunn rundt grafen\n",
    "        'plot_bgcolor': 'rgba(0,0,0,0)', # Bakgrunn i grafen\n",
    "        'margin': {\n",
    "            't':25\n",
    "        }\n",
    "    }\n",
    "})\n",
    "'''\n",
    "#pio.templates.default = edith_layout # Velger egendefinert template\n",
    "offcanvas = html.Div(\n",
    "    dbc.Offcanvas(\n",
    "            children = [\n",
    "                html.Div(\n",
    "                    id = \"innhold_offcanvas\"\n",
    "                ),\n",
    "                html.P(\"Kan lukkes ved å trykke på Esc\")\n",
    "            ],\n",
    "            id=\"offcanvas\",\n",
    "            title=\"Informasjon om foretak\",\n",
    "            is_open = False,\n",
    "            backdrop = False,\n",
    "            scrollable = True,\n",
    "            placement = \"end\"\n",
    "        )\n",
    ")\n",
    "'''\n",
    "# Layout\n",
    "app.layout = html.Div([\n",
    "    dcc.Store(id='clickdata', storage_type='local'), # Vet ikke hva clickdata er for\n",
    "    dcc.Location(id = 'url', refresh = False),\n",
    "    dbc.Row([\n",
    "        dbc.Col(html.Img(src=\"assets/ssblogo.png\", style = {\"width\": \"300px\"}), width=4), # Kan være praktisk med gjennomsiktig bakgrunn på logoen\n",
    "        dbc.Col(html.H1(\"EDITH\"))\n",
    "    ], style = {\"padding\": \"10px\"}),\n",
    "    html.Div(id = 'page-content'),\n",
    "])\n",
    "\n",
    "# Henter callbacks\n",
    "from models.callbacks import get_callbacks\n",
    "\n",
    "get_callbacks(app)\n",
    "\n",
    "\n",
    "\n",
    "app.run_server(debug=True, port=str(portnummer), mode=visningsmodus)"
   ]
  },
  {
   "cell_type": "markdown",
   "id": "0533bf6b-a136-4847-a383-3b7b473a90ae",
   "metadata": {},
   "source": [
    "### Kjør cellen nedenfor for å avslutte Edith"
   ]
  },
  {
   "cell_type": "code",
   "execution_count": null,
   "id": "7e263409-c93a-4def-b72c-3e594dc60aac",
   "metadata": {},
   "outputs": [],
   "source": [
    "#app._terminate_server_for_port(\"localhost\", portnummer)"
   ]
  },
  {
   "cell_type": "code",
   "execution_count": null,
   "id": "f24a2e64-01e3-4ccc-bea5-389385dcca64",
   "metadata": {},
   "outputs": [],
   "source": []
  }
 ],
 "metadata": {
  "kernelspec": {
   "display_name": "Python 3",
   "language": "python",
   "name": "python3"
  },
  "language_info": {
   "codemirror_mode": {
    "name": "ipython",
    "version": 3
   },
   "file_extension": ".py",
   "mimetype": "text/x-python",
   "name": "python",
   "nbconvert_exporter": "python",
   "pygments_lexer": "ipython3",
   "version": "3.8.8"
  }
 },
 "nbformat": 4,
 "nbformat_minor": 5
}
