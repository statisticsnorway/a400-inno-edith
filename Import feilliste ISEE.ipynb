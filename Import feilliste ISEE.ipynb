{
 "cells": [
  {
   "cell_type": "code",
   "execution_count": null,
   "id": "41ea6fb5-2ab7-40d0-8877-6f220240c660",
   "metadata": {},
   "outputs": [],
   "source": [
    "import getpass # Denne funksjonen lar deg skrive inn passordet med et input felt, istedenfor å skrive det inn i notebooken\n",
    "passord = getpass.getpass()"
   ]
  },
  {
   "cell_type": "code",
   "execution_count": null,
   "id": "2bbeb3e1-d70b-46ac-875a-9fcecb14e72d",
   "metadata": {},
   "outputs": [],
   "source": [
    "import pandas as pd\n",
    "import sqlite3\n",
    "from sqlalchemy import Table, create_engine\n",
    "from sqlalchemy.sql import select\n",
    "from flask_sqlalchemy import SQLAlchemy\n",
    "import getpass\n",
    "import cx_Oracle\n",
    "import json\n",
    "import os\n",
    "\n",
    "from models.models_delt import connect"
   ]
  },
  {
   "cell_type": "code",
   "execution_count": null,
   "id": "dd043e62-14bd-44b8-9385-1efff9a5d0c6",
   "metadata": {},
   "outputs": [],
   "source": [
    "with open(\"config.json\") as config: # Laster in valg fra config.json\n",
    "    config = json.load(config)\n",
    "\n",
    "conn, engine, db = connect()"
   ]
  },
  {
   "cell_type": "code",
   "execution_count": null,
   "id": "1c935b09-402c-4e3c-8f00-161c322ca7f2",
   "metadata": {},
   "outputs": [],
   "source": [
    "bruker = getpass.getuser()[:3]\n",
    "db = cx_Oracle.connect(bruker,passord, \"DB1P\")"
   ]
  },
  {
   "cell_type": "code",
   "execution_count": null,
   "id": "a513e1b7-0786-45c8-8e04-84fb5954f9d9",
   "metadata": {},
   "outputs": [],
   "source": [
    "delreg = config[\"perioder\"][\"t\"][\"delreg\"]\n",
    "df_feil = pd.read_sql(f\"SELECT DELREG_NR, ENHETS_TYPE, ENHETS_ID, SKJEMA, LOPENR, FELT_ID, FEILID, FTEKST, BRUKER, INT_ID, RAD_NR FROM DYNAREV.VW_KONTROLL_FEIL WHERE DELREG_NR='{delreg}'\", con = db)\n",
    "df_feil[\"DELREG_NR\"] = df_feil[\"DELREG_NR\"].astype(str)\n",
    "\n",
    "# Nedenfor fjernes de som er reviderte\n",
    "enheter = pd.read_sql(f\"SELECT ENHETS_ID, REV_KODE, INN_DATO, REV_DATO FROM DYNAREV.VW_SKJEMA_ENHET WHERE DELREG_NR = {delreg}\", con=db)\n",
    "enheter = list(enheter.loc[enheter[\"REV_KODE\"] != \"R\"][\"ENHETS_ID\"].unique())\n",
    "df_feil = df_feil.loc[df_feil[\"ENHETS_ID\"].isin(enheter)]"
   ]
  },
  {
   "cell_type": "code",
   "execution_count": null,
   "id": "99fc2999-71fa-4f4c-9f4d-9a2731916737",
   "metadata": {},
   "outputs": [],
   "source": [
    "dff = pd.read_sql(f'SELECT * FROM {config[\"tabeller\"][\"raadata\"]}', con=engine)"
   ]
  },
  {
   "cell_type": "code",
   "execution_count": null,
   "id": "1574cfd3-1816-47dc-8fd8-72457fec8425",
   "metadata": {},
   "outputs": [],
   "source": [
    "kolonner = dff.columns.difference(df_feil.columns).tolist()\n",
    "kolonner += [\"ENHETS_ID\"]\n",
    "\n",
    "df = pd.merge(df_feil, dff[kolonner], on= \"ENHETS_ID\", how = \"right\")\n",
    "\n",
    "df = df.dropna(subset = [\"feilliste\"])\n",
    "df = df.drop_duplicates(subset = [\"ORGNR\", \"feilliste\", \"FELT_ID\"])"
   ]
  },
  {
   "cell_type": "code",
   "execution_count": null,
   "id": "d8ca7109-e998-425f-8a6b-baeef91d995d",
   "metadata": {},
   "outputs": [],
   "source": [
    "df[\"kommentar\"] = \"\"\n",
    "df[\"feilliste\"] = df[\"FTEKST\"]"
   ]
  },
  {
   "cell_type": "code",
   "execution_count": null,
   "id": "d03baa03-3249-4fdd-ab68-47c058984570",
   "metadata": {},
   "outputs": [],
   "source": [
    "df.to_csv(f\"{config['data']['filsti']}/feilliste.csv\", index = False)"
   ]
  },
  {
   "cell_type": "code",
   "execution_count": null,
   "id": "55455385-b798-4905-8582-51e59e0d2227",
   "metadata": {},
   "outputs": [],
   "source": [
    "for i in df_feil[\"FTEKST\"].unique():\n",
    "    print(i)\n",
    "    print(\"---------\")"
   ]
  }
 ],
 "metadata": {
  "language_info": {
   "codemirror_mode": {
    "name": "ipython"
   },
   "file_extension": ".py",
   "mimetype": "text/x-python",
   "name": "python",
   "nbconvert_exporter": "python"
  }
 },
 "nbformat": 4,
 "nbformat_minor": 5
}
