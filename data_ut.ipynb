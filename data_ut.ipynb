{
 "cells": [
  {
   "cell_type": "markdown",
   "id": "victorian-identification",
   "metadata": {},
   "source": [
    "# Notebook for å hente ut fra Edith og lagre data i ønsket format\n",
    "\n",
    "## Oppskrift:\n",
    "* Hent inn pakker\n",
    "* koble opp til sqlite-databasen\n",
    "* Les \"rådata\" og editerte data\n",
    "* Koble dataene\n",
    "\n",
    "\n",
    "* Velg riktig celle i notebooken for å skrive ut til ønsket format\n"
   ]
  },
  {
   "cell_type": "code",
   "execution_count": null,
   "id": "indirect-format",
   "metadata": {},
   "outputs": [],
   "source": [
    "#Henter inn pakkene som trengs. Trenger pandas og sqlite3\n",
    "\n",
    "import pandas as pd\n",
    "\n",
    "import sqlite3\n",
    "from sqlalchemy import Table, create_engine\n",
    "from sqlalchemy.sql import select\n",
    "from flask_sqlalchemy import SQLAlchemy\n",
    "import json"
   ]
  },
  {
   "cell_type": "markdown",
   "id": "announced-tuner",
   "metadata": {},
   "source": [
    "## Laster inn forhåndsdefinert config.json\n",
    "#### Fila må være fylt ut med riktige parametre og ligge i samme mappe som denne notebook'en"
   ]
  },
  {
   "cell_type": "code",
   "execution_count": null,
   "id": "african-numbers",
   "metadata": {},
   "outputs": [],
   "source": [
    "# Config-fil\n",
    "\n",
    "with open(\"config.json\") as config: # Laster in valg fra config.json\n",
    "    config = json.load(config)"
   ]
  },
  {
   "cell_type": "code",
   "execution_count": null,
   "id": "neither-stocks",
   "metadata": {},
   "outputs": [],
   "source": [
    "# Kobler opp til sqlite-databasen\n",
    "# OBS! Sjekk at navn på databasen og filsti er korrekt i config.json! Eks /home/db/edith.sqlite eller /ssb/bruker/...\n",
    "\n",
    "# Funksjon for å opprette sqlite-database og etablere \"connection\". \n",
    "\n",
    "def connect():\n",
    "    engine = create_engine(f\"sqlite:///{config['data']['filsti']}/edith.sqlite\")\n",
    "    conn = sqlite3.connect(f\"{config['data']['filsti']}/edith.sqlite\", timeout=15) #Må endres hvis koblingen skal være opp mot dynarev\n",
    "    db = SQLAlchemy()\n",
    "    return conn, engine, db\n"
   ]
  },
  {
   "cell_type": "code",
   "execution_count": null,
   "id": "romantic-stephen",
   "metadata": {},
   "outputs": [],
   "source": [
    "conn, engine, db = connect()"
   ]
  },
  {
   "cell_type": "code",
   "execution_count": null,
   "id": "accepted-yorkshire",
   "metadata": {},
   "outputs": [],
   "source": [
    "# Setter parametre som trengs\n",
    "#1) Tabellene i sqlite-databasen som inneholder rådata og editerte data\n",
    "raadata_tabell = \"raadata\"\n",
    "edit_tabell = \"editeringer\"\n",
    "\n",
    "#2) Filsti og filnavn på ut-data. Filnavn får riktig \"hale\" utfra valgt ut-metode\n",
    "filsti = \"/ssb/stammexx/<stammenavn>\"\n",
    "filnavn = \"editerte_fra_edith\""
   ]
  },
  {
   "cell_type": "code",
   "execution_count": null,
   "id": "reflected-malpractice",
   "metadata": {},
   "outputs": [],
   "source": [
    "raadata_select = \"SELECT * FROM \"+ raadata_tabell\n",
    "#raadata_select = \"SELECT * FROM \"+ raadata_tabell+ \" WHERE orgnr='xx'\" \n",
    "\n",
    "edit_select = \"SELECT * FROM \"+ edit_tabell\n",
    "#edit_select = \"SELECT * FROM \"+ edit_tabell+ \" WHERE orgnr='xx'\" \n"
   ]
  },
  {
   "cell_type": "code",
   "execution_count": null,
   "id": "b07c6743-4df1-4355-9385-565898d3874f",
   "metadata": {},
   "outputs": [],
   "source": [
    "### Koble sammen raadata og editerte data\n",
    "\n",
    "df_ut = pd.read_sql(raadata_select, con=engine)\n",
    "df_e = pd.read_sql(edit_select, con=engine) \n",
    "df_ut = pd.concat([df_ut, df_e])\n",
    "df_ut = df_ut.sort_values(by=\"Log_tid\", ascending=False)\n",
    "df_ut = df_ut.drop_duplicates(subset=[\"VARIABEL\", \"ORGNR\"], keep=\"first\")\n",
    "    \n",
    "df_ut.drop('index',1,inplace=True)\n",
    "\n",
    "#df_ut.head()"
   ]
  },
  {
   "cell_type": "markdown",
   "id": "comprehensive-support",
   "metadata": {},
   "source": [
    "## Nedenfor følger celler for ulike utskriftsmuligheter. Kjør den som gir ønsket filformat\n",
    "\n",
    "1) Til CSV\n",
    "\n",
    "2) Til json\n",
    "\n",
    "3) Til parquet\n",
    "\n",
    "4) Tilbakeføring til ISEE Dynarev"
   ]
  },
  {
   "cell_type": "code",
   "execution_count": null,
   "id": "usual-while",
   "metadata": {},
   "outputs": [],
   "source": [
    "## 1) CSV\n",
    "utfil = filsti+filnavn+\".csv\"\n",
    "\n",
    "df_ut.to_csv(utfil, sep=';', index=False, encoding='UTF-8')\n"
   ]
  },
  {
   "cell_type": "code",
   "execution_count": null,
   "id": "eight-isolation",
   "metadata": {},
   "outputs": [],
   "source": [
    "## 2) JSON\n",
    "utfil = filsti+filnavn+\".json\"\n",
    "\n",
    "df_ut.to_json(utfil, orient='table', index = False)"
   ]
  },
  {
   "cell_type": "code",
   "execution_count": null,
   "id": "wooden-extent",
   "metadata": {},
   "outputs": [],
   "source": [
    "# 3) Skrive til parquet\n",
    "utfil = filsti+filnavn+\".parquet\"\n",
    "\n",
    "df_ut.to_parquet(utfil)"
   ]
  },
  {
   "attachments": {
    "image.png": {
     "image/png": "[encoded data removed]"
    }
   },
   "cell_type": "markdown",
   "id": "inner-shade",
   "metadata": {},
   "source": [
    "## DYNAREV-kode\n",
    "\n",
    "### For å kunne tilbakeføre editerte data til Dynarev kan man ta i bruk funksjonalitet i ISEE for automatisk oppdatering. Denne funksjonaliteten ble opprinnelig laget for editering i SAS, men er også tilgjengelig fra Python. \n",
    "\n",
    "### Forutsetninger for bruk:\n",
    "* I Kontrollbygger i ISEE må det defineres en egen kontroll av typen SPESIAL_AOSAS med et tilhørende AO_NR: \n",
    "\n",
    "![image.png](attachment:image.png)\n",
    "\n",
    "* Det må opprettes en datafil (pandas dataframe) med følgende felter og datatyper:\n",
    "    - AO_NR       NUMBER         NOT NULL \n",
    "    - DELREG_NR   NUMBER         NOT NULL,\n",
    "    - ENHETS_ID   VARCHAR2(30)   NOT NULL,\n",
    "    - SKJEMA      VARCHAR2(30)   NOT NULL,\n",
    "    - LOPENR      NUMBER         NOT NULL,\n",
    "    - ENHETS_TYPE VARCHAR2(4)    NOT NULL,\n",
    "    - RAD_NR      NUMBER         NOT NULL,\n",
    "    - FELT_ID     VARCHAR2(100)  NOT NULL,\n",
    "    - FELT_VERDI  VARCHAR2(2000)\n",
    "    \n",
    "    \n",
    "* OBS!! Det er viktig at variablene står i ovennevnte rekkefølge\n",
    "* FELT_ID må ha samme navn som definert i skjemabygger (obs! Store bokstaver)\n",
    "\n",
    "Mer om AO_SAS: https://wiki-p.ssb.no/display/ISEE/AOSAS+-+Automatisk+oppretting+via+SAS "
   ]
  },
  {
   "cell_type": "markdown",
   "id": "intimate-enclosure",
   "metadata": {},
   "source": [
    "### Eksempel på hvordan en rad med data kan se ut\n",
    "test_data = {'AO_NR':[999],'DELREG_NR':[1234],'ENHETS_ID':['01234567'],'SKJEMA':['RA-xxxx'],'LOPENR':[1], 'ENHETS_TYPE':['BEDR'],\n",
    "             'RAD_NR':[0],'FELT_ID':['MIN_KOMMENTAR'], 'FELT_VERDI':['Kommentar om enheten']}\n",
    "\n",
    "xd = pd.DataFrame(test_data)\n",
    "\n",
    "xd.dtypes\n",
    "\n",
    "xd"
   ]
  },
  {
   "cell_type": "code",
   "execution_count": null,
   "id": "female-healing",
   "metadata": {},
   "outputs": [],
   "source": [
    "#Oppkobling til Oracle, oppgi passord sjekk om det er riktig database (DB1P (produksjon)/DB1T(test))\n",
    "\n",
    "import getpass\n",
    "import cx_Oracle\n",
    "db = cx_Oracle.connect(getpass.getuser(),getpass.getpass(), \"DB1P\")\n",
    "cur = db.cursor()"
   ]
  },
  {
   "cell_type": "code",
   "execution_count": null,
   "id": "369404c8-ad86-43d8-b6bb-a474011877c1",
   "metadata": {},
   "outputs": [],
   "source": [
    "# Selekterer KUN de editerte dataene som skal lastes tilbake til ISEE\n",
    "\n",
    "df_isee = pd.read_sql(edit_select, con=engine) \n",
    "df_isee = df_e.sort_values(by=\"Log_tid\", ascending=False)\n",
    "df_isee = df_e.drop_duplicates(subset=[\"VARIABEL\", \"ORGNR\"], keep=\"first\")\n",
    "\n",
    "# Sørger for at editerte verdier er heltall - Ikke sikkert dette er riktig for alle statistikker!!!\n",
    "for i in config['perioder']:\n",
    "    df_isee[config['perioder'][i]['periode']] = df_isee[config['perioder'][i]['periode']].astype(int)\n",
    "\n",
    "df_isee.head()"
   ]
  },
  {
   "cell_type": "code",
   "execution_count": null,
   "id": "0113b748-a589-4a51-afbc-29cb0d1cd5bd",
   "metadata": {},
   "outputs": [],
   "source": [
    "# Fjerner unødvendige variabler - STATISTIKKSPESIFIKT!\n",
    "\n",
    "df_isee.drop(['februar','januar','ORG_FORM','NACE1'],1,inplace=True)\n",
    "\n",
    "# For å kunne skrive tilbake til ISEE må disse variablene finnes - FELT_ID og FELT_VERDI\n",
    "df_isee['FELT_ID'] = df_isee['VARIABEL']\n",
    "df_isee['FELT_VERDI'] = df_isee['mars']\n",
    "\n",
    "# AO_NR må være definert i Kontrollbyggeren, se dokumentasjon. Samme nr må inn her\n",
    "df_isee['AO_NR'] = 999\n",
    "df_isee.head()"
   ]
  },
  {
   "cell_type": "code",
   "execution_count": null,
   "id": "happy-governor",
   "metadata": {},
   "outputs": [],
   "source": [
    "\n",
    "# OBS!! Datasettet MÅ inneholde alle variable i denne rekkefølgen. \n",
    "til_isee = df_isee[['AO_NR','DELREG_NR','ENHETS_ID', 'SKJEMA','LOPENR','ENHETS_TYPE','RAD_NR','FELT_ID','FELT_VERDI']]\n",
    "#til_isee.head()"
   ]
  },
  {
   "cell_type": "code",
   "execution_count": null,
   "id": "social-microphone",
   "metadata": {},
   "outputs": [],
   "source": [
    "# Setter inn dataene i view: VW_AOSAS_UPDATE\n",
    "rows = [tuple(x) for x in til_isee.values]\n",
    "cur.executemany(\"INSERT INTO DYNAREV.VW_AOSAS_UPDATE VALUES (:1,:2,:3,:4,:5,:6,:7,:8,:9)\",rows)\n",
    "db.commit()\n",
    "cur.close\n"
   ]
  },
  {
   "cell_type": "code",
   "execution_count": null,
   "id": "premier-island",
   "metadata": {},
   "outputs": [],
   "source": [
    "# Kode som kan kjøres for å sjekke at dataene er på plass i oppdateringstabellen\n",
    "#data = pd.read_sql(\"SELECT * FROM DYNAREV.VW_AOSAS_UPDATE WHERE DELREG_NR = xxx \", con=db)\n",
    "#data.head()"
   ]
  },
  {
   "cell_type": "code",
   "execution_count": null,
   "id": "formal-mathematics",
   "metadata": {},
   "outputs": [],
   "source": [
    "# Lukker databaseforbindelsen\n",
    "db.close"
   ]
  }
 ],
 "metadata": {
  "language_info": {
   "codemirror_mode": {
    "name": "ipython"
   },
   "file_extension": ".py",
   "mimetype": "text/x-python",
   "name": "python",
   "nbconvert_exporter": "python"
  }
 },
 "nbformat": 4,
 "nbformat_minor": 5
}
