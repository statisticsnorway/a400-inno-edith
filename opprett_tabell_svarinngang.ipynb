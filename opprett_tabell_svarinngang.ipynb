{
 "cells": [
  {
   "cell_type": "markdown",
   "id": "judicial-politics",
   "metadata": {},
   "source": [
    "# Oppretting av svarinngangtabell\n",
    "\n",
    "## OBS! Før kjøring, legg inn eget brukernavn for oppkogling til DYNAREV\n",
    "## Kjør hele notebooken på en gang! (Velg \"Cell\" - \"Run All\")"
   ]
  },
  {
   "cell_type": "code",
   "execution_count": null,
   "id": "central-garbage",
   "metadata": {},
   "outputs": [],
   "source": [
    "import pandas as pd\n",
    "\n",
    "import sqlite3\n",
    "from sqlalchemy import Table, create_engine\n",
    "from sqlalchemy.sql import select\n",
    "from flask_sqlalchemy import SQLAlchemy\n",
    "\n",
    "import getpass\n",
    "import cx_Oracle\n",
    "\n",
    "from models.models_delt import connect\n"
   ]
  },
  {
   "cell_type": "code",
   "execution_count": null,
   "id": "amended-virus",
   "metadata": {},
   "outputs": [],
   "source": [
    "import json\n",
    "\n",
    "with open(\"config.json\") as config: # Laster in valg fra config.json\n",
    "    config = json.load(config)"
   ]
  },
  {
   "cell_type": "markdown",
   "id": "lovely-baseball",
   "metadata": {},
   "source": [
    "# Kobler til dynarev / oracle\n",
    "#### Skriv inn eget brukernavn"
   ]
  },
  {
   "cell_type": "code",
   "execution_count": null,
   "id": "latin-wildlife",
   "metadata": {},
   "outputs": [],
   "source": [
    "bruker = getpass.getuser()[:3]\n",
    "db = cx_Oracle.connect(bruker,getpass.getpass(), \"DB1P\")"
   ]
  },
  {
   "cell_type": "code",
   "execution_count": null,
   "id": "sunrise-campus",
   "metadata": {},
   "outputs": [],
   "source": [
    "\"\"\"\n",
    "def connect():\n",
    "    conn = sqlite3.connect(f\"{config['data']['filsti']}/edith.sqlite\", timeout=15) #Må endres hvis koblingen skal være opp mot dynarev\n",
    "    engine = create_engine(f\"sqlite:///{config['data']['filsti']}/edith.sqlite\")\n",
    "    #conn = sqlite3.connect(\"/home/db/fou_sas.sqlite\", timeout=15) #Må endres hvis koblingen skal være opp mot dynarev\n",
    "    #engine = create_engine(\"sqlite:////home/db/fou_sas.sqlite\")\n",
    "    db = SQLAlchemy()\n",
    "    return conn, engine, db\n",
    "\"\"\"\n",
    "conn, engine, db_sqlite = connect()\n"
   ]
  },
  {
   "cell_type": "markdown",
   "id": "adolescent-saudi",
   "metadata": {},
   "source": [
    "### Leser og henter inn tabeller fra Dynarev"
   ]
  },
  {
   "cell_type": "code",
   "execution_count": null,
   "id": "defined-treat",
   "metadata": {},
   "outputs": [],
   "source": [
    "data = pd.read_sql(f\"SELECT ENHETS_ID, FELT_ID, FELT_VERDI FROM DYNAREV.VW_SKJEMA_DATA WHERE DELREG_NR = {config['perioder']['t']['delreg']}\", con=db)\n",
    "rev = pd.read_sql(f\"SELECT ENHETS_ID, REV_KODE, INN_DATO, REV_DATO FROM DYNAREV.VW_SKJEMA_ENHET WHERE DELREG_NR = {config['perioder']['t']['delreg']}\", con=db)"
   ]
  },
  {
   "cell_type": "code",
   "execution_count": null,
   "id": "coordinated-final",
   "metadata": {},
   "outputs": [],
   "source": [
    "revtabell = data.merge(rev, how='left', on='ENHETS_ID')\n",
    "revtabell['REV_KODE'] = revtabell['REV_KODE'].fillna('U')\n",
    "revtabell['FELT_VERDI'] = pd.to_numeric(revtabell['FELT_VERDI'], errors='coerce')\n",
    "revtabell['FELT_VERDI'] = revtabell['FELT_VERDI'].fillna(0)\n",
    "#revtabell.head()"
   ]
  },
  {
   "cell_type": "markdown",
   "id": "endless-portable",
   "metadata": {},
   "source": [
    "### Laster opp oppdatert tabell"
   ]
  },
  {
   "cell_type": "code",
   "execution_count": null,
   "id": "handled-north",
   "metadata": {},
   "outputs": [],
   "source": [
    "revtabell.to_sql(f'{config[\"tabeller\"][\"svarinngang\"]}', con = engine, if_exists='replace')"
   ]
  },
  {
   "cell_type": "markdown",
   "id": "useful-elizabeth",
   "metadata": {},
   "source": [
    "### Laster inn tabell og sjekker\n"
   ]
  },
  {
   "cell_type": "code",
   "execution_count": null,
   "id": "compatible-assignment",
   "metadata": {},
   "outputs": [],
   "source": [
    "revtabell = pd.read_sql(\"SELECT * FROM svarinngang WHERE FELT_ID = 'INTFOU'\", con=engine)"
   ]
  },
  {
   "cell_type": "code",
   "execution_count": null,
   "id": "accredited-function",
   "metadata": {},
   "outputs": [],
   "source": [
    "#revtabell"
   ]
  },
  {
   "cell_type": "code",
   "execution_count": null,
   "id": "persistent-manitoba",
   "metadata": {},
   "outputs": [],
   "source": []
  }
 ],
 "metadata": {
  "kernelspec": {
   "display_name": "Python 3",
   "language": "python",
   "name": "python3"
  },
  "language_info": {
   "codemirror_mode": {
    "name": "ipython",
    "version": 3
   },
   "file_extension": ".py",
   "mimetype": "text/x-python",
   "name": "python",
   "nbconvert_exporter": "python",
   "pygments_lexer": "ipython3",
   "version": "3.6.8"
  }
 },
 "nbformat": 4,
 "nbformat_minor": 5
}
