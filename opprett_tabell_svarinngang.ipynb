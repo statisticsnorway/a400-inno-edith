{
 "cells": [
  {
   "cell_type": "markdown",
   "id": "judicial-politics",
   "metadata": {},
   "source": [
    "# Oppretting av svarinngangtabell\n",
    "\n",
    "### OBS! Denne kjøringen henter ut som default alle data knyttet til ett delregister. Dersom man kun ønsker data for ett (av flere skjema) må det legges til en seleksjon i uttrekket fra DYNAREV\n",
    "\n",
    "### Hele notebooken kan kjøres på en gang! (Velg \"Cell\" - \"Run All\")"
   ]
  },
  {
   "cell_type": "code",
   "execution_count": 1,
   "id": "central-garbage",
   "metadata": {},
   "outputs": [
    {
     "name": "stdout",
     "output_type": "stream",
     "text": [
      "models_delt.py lastet\n"
     ]
    },
    {
     "name": "stderr",
     "output_type": "stream",
     "text": [
      "/home/jns@ssb.no/edith/models/models_delt.py:6: UserWarning: \n",
      "The dash_table package is deprecated. Please replace\n",
      "`import dash_table` with `from dash import dash_table`\n",
      "\n",
      "Also, if you're using any of the table format helpers (e.g. Group), replace \n",
      "`from dash_table.Format import Group` with \n",
      "`from dash.dash_table.Format import Group`\n",
      "  import dash_table as dt\n",
      "/home/jns@ssb.no/edith/models/models_delt.py:8: UserWarning: \n",
      "The dash_core_components package is deprecated. Please replace\n",
      "`import dash_core_components as dcc` with `from dash import dcc`\n",
      "  import dash_core_components as dcc\n"
     ]
    }
   ],
   "source": [
    "import pandas as pd\n",
    "\n",
    "import sqlite3\n",
    "from sqlalchemy import Table, create_engine\n",
    "from sqlalchemy.sql import select\n",
    "from flask_sqlalchemy import SQLAlchemy\n",
    "\n",
    "import getpass\n",
    "import cx_Oracle\n",
    "\n",
    "from models.models_delt import connect\n"
   ]
  },
  {
   "cell_type": "code",
   "execution_count": 2,
   "id": "amended-virus",
   "metadata": {},
   "outputs": [],
   "source": [
    "import json\n",
    "\n",
    "with open(\"config.json\") as config: # Laster in valg fra config.json\n",
    "    config = json.load(config)"
   ]
  },
  {
   "cell_type": "markdown",
   "id": "lovely-baseball",
   "metadata": {},
   "source": [
    "# Kobler til dynarev / oracle\n",
    "#### Skriv inn eget Oracle passord"
   ]
  },
  {
   "cell_type": "code",
   "execution_count": 5,
   "id": "latin-wildlife",
   "metadata": {},
   "outputs": [
    {
     "ename": "KeyboardInterrupt",
     "evalue": "Interrupted by user",
     "output_type": "error",
     "traceback": [
      "\u001b[0;31m---------------------------------------------------------------------------\u001b[0m",
      "\u001b[0;31mKeyboardInterrupt\u001b[0m                         Traceback (most recent call last)",
      "\u001b[0;32m<ipython-input-5-838100e3d682>\u001b[0m in \u001b[0;36m<module>\u001b[0;34m\u001b[0m\n\u001b[1;32m      1\u001b[0m \u001b[0mbruker\u001b[0m \u001b[0;34m=\u001b[0m \u001b[0mgetpass\u001b[0m\u001b[0;34m.\u001b[0m\u001b[0mgetuser\u001b[0m\u001b[0;34m(\u001b[0m\u001b[0;34m)\u001b[0m\u001b[0;34m[\u001b[0m\u001b[0;34m:\u001b[0m\u001b[0;36m3\u001b[0m\u001b[0;34m]\u001b[0m  \u001b[0;31m# Henter brukernavn direkte\u001b[0m\u001b[0;34m\u001b[0m\u001b[0;34m\u001b[0m\u001b[0m\n\u001b[0;32m----> 2\u001b[0;31m \u001b[0mdb\u001b[0m \u001b[0;34m=\u001b[0m \u001b[0mcx_Oracle\u001b[0m\u001b[0;34m.\u001b[0m\u001b[0mconnect\u001b[0m\u001b[0;34m(\u001b[0m\u001b[0mbruker\u001b[0m\u001b[0;34m,\u001b[0m\u001b[0mgetpass\u001b[0m\u001b[0;34m.\u001b[0m\u001b[0mgetpass\u001b[0m\u001b[0;34m(\u001b[0m\u001b[0;34m)\u001b[0m\u001b[0;34m,\u001b[0m \u001b[0;34m\"DB1P\"\u001b[0m\u001b[0;34m)\u001b[0m  \u001b[0;31m# Kobler til Oracle, skriv inn passord\u001b[0m\u001b[0;34m\u001b[0m\u001b[0;34m\u001b[0m\u001b[0m\n\u001b[0m",
      "\u001b[0;32m/usr/local/lib/python3.6/site-packages/ipykernel/kernelbase.py\u001b[0m in \u001b[0;36mgetpass\u001b[0;34m(self, prompt, stream)\u001b[0m\n\u001b[1;32m    841\u001b[0m             \u001b[0mself\u001b[0m\u001b[0;34m.\u001b[0m\u001b[0m_parent_ident\u001b[0m\u001b[0;34m,\u001b[0m\u001b[0;34m\u001b[0m\u001b[0;34m\u001b[0m\u001b[0m\n\u001b[1;32m    842\u001b[0m             \u001b[0mself\u001b[0m\u001b[0;34m.\u001b[0m\u001b[0m_parent_header\u001b[0m\u001b[0;34m,\u001b[0m\u001b[0;34m\u001b[0m\u001b[0;34m\u001b[0m\u001b[0m\n\u001b[0;32m--> 843\u001b[0;31m             \u001b[0mpassword\u001b[0m\u001b[0;34m=\u001b[0m\u001b[0;32mTrue\u001b[0m\u001b[0;34m,\u001b[0m\u001b[0;34m\u001b[0m\u001b[0;34m\u001b[0m\u001b[0m\n\u001b[0m\u001b[1;32m    844\u001b[0m         )\n\u001b[1;32m    845\u001b[0m \u001b[0;34m\u001b[0m\u001b[0m\n",
      "\u001b[0;32m/usr/local/lib/python3.6/site-packages/ipykernel/kernelbase.py\u001b[0m in \u001b[0;36m_input_request\u001b[0;34m(self, prompt, ident, parent, password)\u001b[0m\n\u001b[1;32m    899\u001b[0m             \u001b[0;32mexcept\u001b[0m \u001b[0mKeyboardInterrupt\u001b[0m\u001b[0;34m:\u001b[0m\u001b[0;34m\u001b[0m\u001b[0;34m\u001b[0m\u001b[0m\n\u001b[1;32m    900\u001b[0m                 \u001b[0;31m# re-raise KeyboardInterrupt, to truncate traceback\u001b[0m\u001b[0;34m\u001b[0m\u001b[0;34m\u001b[0m\u001b[0;34m\u001b[0m\u001b[0m\n\u001b[0;32m--> 901\u001b[0;31m                 \u001b[0;32mraise\u001b[0m \u001b[0mKeyboardInterrupt\u001b[0m\u001b[0;34m(\u001b[0m\u001b[0;34m\"Interrupted by user\"\u001b[0m\u001b[0;34m)\u001b[0m \u001b[0;32mfrom\u001b[0m \u001b[0;32mNone\u001b[0m\u001b[0;34m\u001b[0m\u001b[0;34m\u001b[0m\u001b[0m\n\u001b[0m\u001b[1;32m    902\u001b[0m             \u001b[0;32mexcept\u001b[0m \u001b[0mException\u001b[0m \u001b[0;32mas\u001b[0m \u001b[0me\u001b[0m\u001b[0;34m:\u001b[0m\u001b[0;34m\u001b[0m\u001b[0;34m\u001b[0m\u001b[0m\n\u001b[1;32m    903\u001b[0m                 \u001b[0mself\u001b[0m\u001b[0;34m.\u001b[0m\u001b[0mlog\u001b[0m\u001b[0;34m.\u001b[0m\u001b[0mwarning\u001b[0m\u001b[0;34m(\u001b[0m\u001b[0;34m\"Invalid Message:\"\u001b[0m\u001b[0;34m,\u001b[0m \u001b[0mexc_info\u001b[0m\u001b[0;34m=\u001b[0m\u001b[0;32mTrue\u001b[0m\u001b[0;34m)\u001b[0m\u001b[0;34m\u001b[0m\u001b[0;34m\u001b[0m\u001b[0m\n",
      "\u001b[0;31mKeyboardInterrupt\u001b[0m: Interrupted by user"
     ]
    }
   ],
   "source": [
    "bruker = getpass.getuser()[:3]  # Henter brukernavn direkte\n",
    "db = cx_Oracle.connect(bruker,getpass.getpass(), \"DB1P\")  # Kobler til Oracle, skriv inn passord"
   ]
  },
  {
   "cell_type": "code",
   "execution_count": 4,
   "id": "sunrise-campus",
   "metadata": {},
   "outputs": [],
   "source": [
    "conn, engine, db_sqlite = connect()"
   ]
  },
  {
   "cell_type": "markdown",
   "id": "adolescent-saudi",
   "metadata": {},
   "source": [
    "### Leser og henter inn tabeller fra Dynarev\n",
    "\n",
    "##### Eks på ekstra betingelse ved seleksjon fra vw_skjema_data: \n",
    "f\"SELECT ENHETS_ID, FELT_ID, FELT_VERDI FROM DYNAREV.VW_SKJEMA_DATA WHERE DELREG_NR = {config['perioder']['t']['delreg']}  <b>AND skjema='RA-xxxx'</b>\"\n",
    "\n"
   ]
  },
  {
   "cell_type": "code",
   "execution_count": null,
   "id": "defined-treat",
   "metadata": {},
   "outputs": [],
   "source": [
    "data = pd.read_sql(f\"SELECT ENHETS_ID, FELT_ID, FELT_VERDI FROM DYNAREV.VW_SKJEMA_DATA WHERE DELREG_NR = {config['perioder']['t']['delreg']}\", con=db)  # Henter inn faste Oracle variabler\n",
    "rev = pd.read_sql(f\"SELECT ENHETS_ID, REV_KODE, INN_DATO, REV_DATO FROM DYNAREV.VW_SKJEMA_ENHET WHERE DELREG_NR = {config['perioder']['t']['delreg']}\", con=db)"
   ]
  },
  {
   "cell_type": "code",
   "execution_count": null,
   "id": "coordinated-final",
   "metadata": {},
   "outputs": [],
   "source": [
    "revtabell = data.merge(rev, how='left', on='ENHETS_ID')  # Merger sammen dataframene data og rev med venstrekobling på ENHETS_ID\n",
    "revtabell['REV_KODE'] = revtabell['REV_KODE'].fillna('U')  # Erstatter NaN verdier med 'U'. Disse merkes dermed som ureviderte\n",
    "revtabell['FELT_VERDI'] = pd.to_numeric(revtabell['FELT_VERDI'], errors='coerce')  # Konverterer FELT_VERDI til numerisk variabel\n",
    "revtabell['FELT_VERDI'] = revtabell['FELT_VERDI'].fillna(0)  # Erstatter NaN med 0 i FELT_VERDI\n",
    "#revtabell.head()"
   ]
  },
  {
   "cell_type": "markdown",
   "id": "endless-portable",
   "metadata": {},
   "source": [
    "### Laster opp oppdatert tabell"
   ]
  },
  {
   "cell_type": "code",
   "execution_count": null,
   "id": "handled-north",
   "metadata": {},
   "outputs": [],
   "source": [
    "revtabell.to_sql(f'{config[\"tabeller\"][\"svarinngang\"]}', con = engine, if_exists='replace')"
   ]
  },
  {
   "cell_type": "markdown",
   "id": "useful-elizabeth",
   "metadata": {},
   "source": [
    "### Laster inn tabell og sjekker\n"
   ]
  },
  {
   "cell_type": "code",
   "execution_count": null,
   "id": "compatible-assignment",
   "metadata": {},
   "outputs": [],
   "source": [
    "revtabell = pd.read_sql(\"SELECT * FROM svarinngang WHERE FELT_ID = 'INTFOU'\", con=engine)"
   ]
  },
  {
   "cell_type": "code",
   "execution_count": null,
   "id": "accredited-function",
   "metadata": {},
   "outputs": [],
   "source": [
    "#revtabell"
   ]
  },
  {
   "cell_type": "code",
   "execution_count": null,
   "id": "persistent-manitoba",
   "metadata": {},
   "outputs": [],
   "source": []
  }
 ],
 "metadata": {
  "kernelspec": {
   "display_name": "Python 3",
   "language": "python",
   "name": "python3"
  },
  "language_info": {
   "codemirror_mode": {
    "name": "ipython",
    "version": 3
   },
   "file_extension": ".py",
   "mimetype": "text/x-python",
   "name": "python",
   "nbconvert_exporter": "python",
   "pygments_lexer": "ipython3",
   "version": "3.6.8"
  }
 },
 "nbformat": 4,
 "nbformat_minor": 5
}
